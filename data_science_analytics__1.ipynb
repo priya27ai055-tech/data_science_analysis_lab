{
  "nbformat": 4,
  "nbformat_minor": 0,
  "metadata": {
    "colab": {
      "provenance": [],
      "authorship_tag": "ABX9TyMhcnJNozieHJI6upPl7ijZ",
      "include_colab_link": true
    },
    "kernelspec": {
      "name": "python3",
      "display_name": "Python 3"
    },
    "language_info": {
      "name": "python"
    }
  },
  "cells": [
    {
      "cell_type": "markdown",
      "metadata": {
        "id": "view-in-github",
        "colab_type": "text"
      },
      "source": [
        "<a href=\"https://colab.research.google.com/github/priya27ai055-tech/data_science_analysis_lab/blob/main/data_science_analytics__1.ipynb\" target=\"_parent\"><img src=\"https://colab.research.google.com/assets/colab-badge.svg\" alt=\"Open In Colab\"/></a>"
      ]
    },
    {
      "cell_type": "code",
      "execution_count": null,
      "metadata": {
        "colab": {
          "base_uri": "https://localhost:8080/"
        },
        "id": "OHwLzUtBIo17",
        "outputId": "01054a9b-43fe-4fe1-adac-ca0ff5a34fb2"
      },
      "outputs": [
        {
          "output_type": "stream",
          "name": "stdout",
          "text": [
            "Requirement already satisfied: scipy in /usr/local/lib/python3.12/dist-packages (1.16.2)\n",
            "Requirement already satisfied: numpy in /usr/local/lib/python3.12/dist-packages (2.0.2)\n",
            "Requirement already satisfied: pandas in /usr/local/lib/python3.12/dist-packages (2.2.2)\n",
            "Requirement already satisfied: python-dateutil>=2.8.2 in /usr/local/lib/python3.12/dist-packages (from pandas) (2.9.0.post0)\n",
            "Requirement already satisfied: pytz>=2020.1 in /usr/local/lib/python3.12/dist-packages (from pandas) (2025.2)\n",
            "Requirement already satisfied: tzdata>=2022.7 in /usr/local/lib/python3.12/dist-packages (from pandas) (2025.2)\n",
            "Requirement already satisfied: six>=1.5 in /usr/local/lib/python3.12/dist-packages (from python-dateutil>=2.8.2->pandas) (1.17.0)\n",
            "One-sample t-test:\n",
            "t-statistic = 2.644085745075745\n",
            "p-value = 0.026734119873261523\n",
            "\n",
            "Independent samples t-test:\n",
            "t-statistic = 4.571428571428576\n",
            "p-value = 0.001822370723477544\n",
            "\n",
            "Paired t-test:\n",
            "t-statistic = -6.92820323027551\n",
            "p-value = 0.020204102886728754\n",
            "\n",
            "F-test value = 2.9199999999999995\n",
            "\n",
            "Chi-square test:\n",
            "Chi2 = 5.0\n",
            "p-value = 0.0820849986238988\n"
          ]
        }
      ],
      "source": [
        "# Install libraries (if not already)\n",
        "!pip install scipy numpy pandas\n",
        "\n",
        "import numpy as np\n",
        "from scipy import stats\n",
        "\n",
        "# Example data\n",
        "sample = [78, 76, 80, 75, 74, 79, 77, 81, 73, 80]\n",
        "pop_mean = 75\n",
        "\n",
        "# 1. One-sample t-test\n",
        "t_stat, p_value = stats.ttest_1samp(sample, pop_mean)\n",
        "print(\"One-sample t-test:\")\n",
        "print(\"t-statistic =\", t_stat)\n",
        "print(\"p-value =\", p_value)\n",
        "\n",
        "# 2. Independent samples t-test\n",
        "group1 = [85, 83, 88, 90, 86]\n",
        "group2 = [80, 78, 82, 81, 79]\n",
        "t_stat, p_value = stats.ttest_ind(group1, group2)\n",
        "print(\"\\nIndependent samples t-test:\")\n",
        "print(\"t-statistic =\", t_stat)\n",
        "print(\"p-value =\", p_value)\n",
        "\n",
        "# 3. Paired t-test\n",
        "before = [70, 75, 80]\n",
        "after = [74, 78, 85]\n",
        "t_stat, p_value = stats.ttest_rel(before, after)\n",
        "print(\"\\nPaired t-test:\")\n",
        "print(\"t-statistic =\", t_stat)\n",
        "print(\"p-value =\", p_value)\n",
        "\n",
        "# 4. F-test (variance ratio)\n",
        "var1, var2 = np.var(group1, ddof=1), np.var(group2, ddof=1)\n",
        "F = var1 / var2\n",
        "print(\"\\nF-test value =\", F)\n",
        "\n",
        "# 5. Chi-square test\n",
        "observed = [50, 30, 20]\n",
        "expected = [40, 40, 20]\n",
        "chi2, p = stats.chisquare(f_obs=observed, f_exp=expected)\n",
        "print(\"\\nChi-square test:\")\n",
        "print(\"Chi2 =\", chi2)\n",
        "print(\"p-value =\", p)\n"
      ]
    }
  ]
}