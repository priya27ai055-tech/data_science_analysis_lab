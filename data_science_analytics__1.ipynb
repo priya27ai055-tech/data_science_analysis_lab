{
  "nbformat": 4,
  "nbformat_minor": 0,
  "metadata": {
    "colab": {
      "provenance": [],
      "authorship_tag": "ABX9TyPczEqiWK+bRVrcWQEI1hOx",
      "include_colab_link": true
    },
    "kernelspec": {
      "name": "python3",
      "display_name": "Python 3"
    },
    "language_info": {
      "name": "python"
    }
  },
  "cells": [
    {
      "cell_type": "markdown",
      "metadata": {
        "id": "view-in-github",
        "colab_type": "text"
      },
      "source": [
        "<a href=\"https://colab.research.google.com/github/priya27ai055-tech/data_science_analysis_lab/blob/main/data_science_analytics__1.ipynb\" target=\"_parent\"><img src=\"https://colab.research.google.com/assets/colab-badge.svg\" alt=\"Open In Colab\"/></a>"
      ]
    },
    {
      "cell_type": "code",
      "execution_count": null,
      "metadata": {
        "colab": {
          "base_uri": "https://localhost:8080/"
        },
        "id": "OHwLzUtBIo17",
        "outputId": "01054a9b-43fe-4fe1-adac-ca0ff5a34fb2"
      },
      "outputs": [
        {
          "output_type": "stream",
          "name": "stdout",
          "text": [
            "Requirement already satisfied: scipy in /usr/local/lib/python3.12/dist-packages (1.16.2)\n",
            "Requirement already satisfied: numpy in /usr/local/lib/python3.12/dist-packages (2.0.2)\n",
            "Requirement already satisfied: pandas in /usr/local/lib/python3.12/dist-packages (2.2.2)\n",
            "Requirement already satisfied: python-dateutil>=2.8.2 in /usr/local/lib/python3.12/dist-packages (from pandas) (2.9.0.post0)\n",
            "Requirement already satisfied: pytz>=2020.1 in /usr/local/lib/python3.12/dist-packages (from pandas) (2025.2)\n",
            "Requirement already satisfied: tzdata>=2022.7 in /usr/local/lib/python3.12/dist-packages (from pandas) (2025.2)\n",
            "Requirement already satisfied: six>=1.5 in /usr/local/lib/python3.12/dist-packages (from python-dateutil>=2.8.2->pandas) (1.17.0)\n",
            "One-sample t-test:\n",
            "t-statistic = 2.644085745075745\n",
            "p-value = 0.026734119873261523\n",
            "\n",
            "Independent samples t-test:\n",
            "t-statistic = 4.571428571428576\n",
            "p-value = 0.001822370723477544\n",
            "\n",
            "Paired t-test:\n",
            "t-statistic = -6.92820323027551\n",
            "p-value = 0.020204102886728754\n",
            "\n",
            "F-test value = 2.9199999999999995\n",
            "\n",
            "Chi-square test:\n",
            "Chi2 = 5.0\n",
            "p-value = 0.0820849986238988\n"
          ]
        }
      ],
      "source": [
        "# Install libraries (if not already)\n",
        "!pip install scipy numpy pandas\n",
        "\n",
        "import numpy as np\n",
        "from scipy import stats\n",
        "\n",
        "# Example data\n",
        "sample = [78, 76, 80, 75, 74, 79, 77, 81, 73, 80]\n",
        "pop_mean = 75\n",
        "\n",
        "# 1. One-sample t-test\n",
        "t_stat, p_value = stats.ttest_1samp(sample, pop_mean)\n",
        "print(\"One-sample t-test:\")\n",
        "print(\"t-statistic =\", t_stat)\n",
        "print(\"p-value =\", p_value)\n",
        "\n",
        "# 2. Independent samples t-test\n",
        "group1 = [85, 83, 88, 90, 86]\n",
        "group2 = [80, 78, 82, 81, 79]\n",
        "t_stat, p_value = stats.ttest_ind(group1, group2)\n",
        "print(\"\\nIndependent samples t-test:\")\n",
        "print(\"t-statistic =\", t_stat)\n",
        "print(\"p-value =\", p_value)\n",
        "\n",
        "# 3. Paired t-test\n",
        "before = [70, 75, 80]\n",
        "after = [74, 78, 85]\n",
        "t_stat, p_value = stats.ttest_rel(before, after)\n",
        "print(\"\\nPaired t-test:\")\n",
        "print(\"t-statistic =\", t_stat)\n",
        "print(\"p-value =\", p_value)\n",
        "\n",
        "# 4. F-test (variance ratio)\n",
        "var1, var2 = np.var(group1, ddof=1), np.var(group2, ddof=1)\n",
        "F = var1 / var2\n",
        "print(\"\\nF-test value =\", F)\n",
        "\n",
        "# 5. Chi-square test\n",
        "observed = [50, 30, 20]\n",
        "expected = [40, 40, 20]\n",
        "chi2, p = stats.chisquare(f_obs=observed, f_exp=expected)\n",
        "print(\"\\nChi-square test:\")\n",
        "print(\"Chi2 =\", chi2)\n",
        "print(\"p-value =\", p)\n"
      ]
    },
    {
      "cell_type": "code",
      "source": [
        "# Step 1: Import libraries\n",
        "import tensorflow as tf\n",
        "from tensorflow import keras\n",
        "from tensorflow.keras import layers\n",
        "\n",
        "# Step 2: Load dataset (MNIST)\n",
        "(x_train, y_train), (x_test, y_test) = keras.datasets.mnist.load_data()\n",
        "\n",
        "# Step 3: Normalize the data\n",
        "x_train, x_test = x_train / 255.0, x_test / 255.0\n",
        "\n",
        "# Step 4: Build model\n",
        "model = keras.Sequential([\n",
        "    layers.Flatten(input_shape=(28, 28)),  # Flatten image\n",
        "    layers.Dense(128, activation='relu'),  # Hidden layer\n",
        "    layers.Dense(10, activation='softmax') # Output layer (10 classes)\n",
        "])\n",
        "\n",
        "# Step 5: Compile model\n",
        "model.compile(optimizer='adam',\n",
        "              loss='sparse_categorical_crossentropy',\n",
        "              metrics=['accuracy'])\n",
        "\n",
        "# Step 6: Train the model\n",
        "model.fit(x_train, y_train, epochs=5)\n",
        "\n",
        "# Step 7: Evaluate accuracy\n",
        "loss, acc = model.evaluate(x_test, y_test)\n",
        "print(f\"✅ Model Accuracy: {acc*100:.2f}%\")\n"
      ],
      "metadata": {
        "colab": {
          "base_uri": "https://localhost:8080/"
        },
        "id": "p_xkjQKQ1yCZ",
        "outputId": "5b636e4b-0691-4f01-9feb-1ef0ddd851ad"
      },
      "execution_count": 1,
      "outputs": [
        {
          "output_type": "stream",
          "name": "stdout",
          "text": [
            "Downloading data from https://storage.googleapis.com/tensorflow/tf-keras-datasets/mnist.npz\n",
            "\u001b[1m11490434/11490434\u001b[0m \u001b[32m━━━━━━━━━━━━━━━━━━━━\u001b[0m\u001b[37m\u001b[0m \u001b[1m0s\u001b[0m 0us/step\n"
          ]
        },
        {
          "output_type": "stream",
          "name": "stderr",
          "text": [
            "/usr/local/lib/python3.12/dist-packages/keras/src/layers/reshaping/flatten.py:37: UserWarning: Do not pass an `input_shape`/`input_dim` argument to a layer. When using Sequential models, prefer using an `Input(shape)` object as the first layer in the model instead.\n",
            "  super().__init__(**kwargs)\n"
          ]
        },
        {
          "output_type": "stream",
          "name": "stdout",
          "text": [
            "Epoch 1/5\n",
            "\u001b[1m1875/1875\u001b[0m \u001b[32m━━━━━━━━━━━━━━━━━━━━\u001b[0m\u001b[37m\u001b[0m \u001b[1m11s\u001b[0m 5ms/step - accuracy: 0.8764 - loss: 0.4318\n",
            "Epoch 2/5\n",
            "\u001b[1m1875/1875\u001b[0m \u001b[32m━━━━━━━━━━━━━━━━━━━━\u001b[0m\u001b[37m\u001b[0m \u001b[1m7s\u001b[0m 4ms/step - accuracy: 0.9644 - loss: 0.1218\n",
            "Epoch 3/5\n",
            "\u001b[1m1875/1875\u001b[0m \u001b[32m━━━━━━━━━━━━━━━━━━━━\u001b[0m\u001b[37m\u001b[0m \u001b[1m8s\u001b[0m 4ms/step - accuracy: 0.9764 - loss: 0.0805\n",
            "Epoch 4/5\n",
            "\u001b[1m1875/1875\u001b[0m \u001b[32m━━━━━━━━━━━━━━━━━━━━\u001b[0m\u001b[37m\u001b[0m \u001b[1m10s\u001b[0m 4ms/step - accuracy: 0.9836 - loss: 0.0532\n",
            "Epoch 5/5\n",
            "\u001b[1m1875/1875\u001b[0m \u001b[32m━━━━━━━━━━━━━━━━━━━━\u001b[0m\u001b[37m\u001b[0m \u001b[1m7s\u001b[0m 4ms/step - accuracy: 0.9879 - loss: 0.0404\n",
            "\u001b[1m313/313\u001b[0m \u001b[32m━━━━━━━━━━━━━━━━━━━━\u001b[0m\u001b[37m\u001b[0m \u001b[1m1s\u001b[0m 2ms/step - accuracy: 0.9741 - loss: 0.0834\n",
            "✅ Model Accuracy: 97.86%\n"
          ]
        }
      ]
    }
  ]
}